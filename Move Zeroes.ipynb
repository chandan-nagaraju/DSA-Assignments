{
 "cells": [
  {
   "cell_type": "code",
   "execution_count": 13,
   "metadata": {},
   "outputs": [],
   "source": [
    "def Move_Zeros(nums):\n",
    "    new_lst=[] # initialize two empty lists\n",
    "    zero_lst=[]\n",
    "\n",
    "    for i in nums: # iterate through each element 'i'in the input list 'nums'.\n",
    "        if i==0:  # If the element i is equal to 0, you append it to the zero_lst.\n",
    "            zero_lst.append(i)\n",
    "        else:  #if the element i is non-zero, you append it to the new_lst\n",
    "            new_lst.append(i)\n",
    "\n",
    "    new_lst.extend(zero_lst) # extend new_lst by adding all the elements from zero_lst,\n",
    "    return new_lst #return the modified new_lst."
   ]
  },
  {
   "cell_type": "code",
   "execution_count": 14,
   "metadata": {},
   "outputs": [
    {
     "data": {
      "text/plain": [
       "[1, 3, 12, 0, 0]"
      ]
     },
     "execution_count": 14,
     "metadata": {},
     "output_type": "execute_result"
    }
   ],
   "source": [
    "Move_Zeros([0,1,0,3,12]) #Output: [1,3,12,0,0]"
   ]
  },
  {
   "cell_type": "code",
   "execution_count": 15,
   "metadata": {},
   "outputs": [
    {
     "data": {
      "text/plain": [
       "[0]"
      ]
     },
     "execution_count": 15,
     "metadata": {},
     "output_type": "execute_result"
    }
   ],
   "source": [
    "Move_Zeros([0])  # Output: [0]"
   ]
  }
 ],
 "metadata": {
  "kernelspec": {
   "display_name": "airflow_env",
   "language": "python",
   "name": "python3"
  },
  "language_info": {
   "codemirror_mode": {
    "name": "ipython",
    "version": 3
   },
   "file_extension": ".py",
   "mimetype": "text/x-python",
   "name": "python",
   "nbconvert_exporter": "python",
   "pygments_lexer": "ipython3",
   "version": "3.9.16"
  },
  "orig_nbformat": 4
 },
 "nbformat": 4,
 "nbformat_minor": 2
}

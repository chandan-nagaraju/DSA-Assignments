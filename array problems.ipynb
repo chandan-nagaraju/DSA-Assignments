{
 "cells": [
  {
   "attachments": {},
   "cell_type": "markdown",
   "metadata": {},
   "source": [
    "Q1. Given an array of size N. The task is to find the maximum and the minimum element of the array using the minimum number of comparisons.\n",
    "\n",
    "Examples:\n",
    "\n",
    "Input: arr[] = {3, 5, 4, 1, 9}\n",
    "\n",
    "Output: Minimum element is: 1\n",
    "\n",
    "Maximum element is: 9\n",
    "\n"
   ]
  },
  {
   "cell_type": "code",
   "execution_count": 1,
   "metadata": {},
   "outputs": [],
   "source": [
    "class pair:\n",
    "    def __init__(self):\n",
    "        self.min=0\n",
    "        self.max=0\n",
    "    "
   ]
  },
  {
   "cell_type": "code",
   "execution_count": 4,
   "metadata": {},
   "outputs": [],
   "source": [
    "def MinMax(arr):\n",
    "    minmax=pair()\n",
    "    n=len(arr)\n",
    "    if n==1:\n",
    "        minmax.min=arr[0]\n",
    "        minmax.max=arr[0]\n",
    "        return minmax\n",
    "    \n",
    "    if arr[0]>arr[1]:\n",
    "        minmax.min=arr[1]\n",
    "        minmax.max=arr[0]\n",
    "    else:\n",
    "        minmax.min=arr[0]\n",
    "        minmax.max=arr[1]\n",
    "    \n",
    "    for i in range(2,n):\n",
    "        if arr[i]>minmax.max:\n",
    "            minmax.max=arr[i]\n",
    "        elif arr[i] < minmax.min:\n",
    "            minmax.min = arr[i]\n",
    "    return minmax"
   ]
  },
  {
   "cell_type": "code",
   "execution_count": 5,
   "metadata": {},
   "outputs": [
    {
     "name": "stdout",
     "output_type": "stream",
     "text": [
      "Minimum element is 1\n",
      "Maximum element is 3000\n"
     ]
    }
   ],
   "source": [
    "if __name__ == \"__main__\":\n",
    "\tarr = [1000, 11, 445, 1, 330, 3000]\n",
    "\tminmax = MinMax(arr)\n",
    "\tprint(\"Minimum element is\", minmax.min)\n",
    "\tprint(\"Maximum element is\", minmax.max)"
   ]
  },
  {
   "attachments": {},
   "cell_type": "markdown",
   "metadata": {},
   "source": [
    "\n",
    "💡 **Q2.** You are given an array prices where prices[i] is the price of a given stock on the ith day.\n",
    "\n",
    "You want to maximize your profit by choosing a single day to buy one stock and choosing a different day in the future to sell that stock.\n",
    "\n",
    "Return the maximum profit you can achieve from this transaction. If you cannot achieve any profit, return 0.\n",
    "\n",
    "**Example :**\n",
    "\n",
    "Input: prices = [7,1,5,3,6,4]\n",
    "\n",
    "Output: 5\n",
    "\n",
    "Explanation: Buy on day 2 (price = 1) and sell on day 5 (price = 6), profit = 6-1 = 5.\n",
    "\n",
    "Note that buying on day 2 and selling on day 1 is not allowed because you must buy before you sell.\n",
    "\n"
   ]
  },
  {
   "cell_type": "code",
   "execution_count": 20,
   "metadata": {},
   "outputs": [],
   "source": [
    "def maxProfit(prices):\n",
    "    min_price = float('inf')\n",
    "    max_profit= 0 \n",
    "    for i in range(len(prices)):\n",
    "        if prices[i] <min_price:\n",
    "            min_price = prices[i]\n",
    "        elif prices[i] - min_price >max_profit:\n",
    "            max_profit = prices[i] - min_price\n",
    "    return max_profit"
   ]
  },
  {
   "cell_type": "code",
   "execution_count": 15,
   "metadata": {},
   "outputs": [
    {
     "data": {
      "text/plain": [
       "5"
      ]
     },
     "execution_count": 15,
     "metadata": {},
     "output_type": "execute_result"
    }
   ],
   "source": [
    "maxProfit([7,1,5,3,6,4])"
   ]
  },
  {
   "cell_type": "code",
   "execution_count": 25,
   "metadata": {},
   "outputs": [
    {
     "data": {
      "text/plain": [
       "3"
      ]
     },
     "execution_count": 25,
     "metadata": {},
     "output_type": "execute_result"
    }
   ],
   "source": [
    "l= [1,2,3]\n",
    "n=len(l)\n",
    "n"
   ]
  },
  {
   "cell_type": "code",
   "execution_count": 24,
   "metadata": {},
   "outputs": [
    {
     "name": "stdout",
     "output_type": "stream",
     "text": [
      "2\n",
      "1\n",
      "0\n"
     ]
    }
   ],
   "source": [
    "for i in range(n-1, -1,-1):\n",
    "    print(i)"
   ]
  },
  {
   "cell_type": "code",
   "execution_count": null,
   "metadata": {},
   "outputs": [],
   "source": []
  }
 ],
 "metadata": {
  "kernelspec": {
   "display_name": "airflow_env",
   "language": "python",
   "name": "python3"
  },
  "language_info": {
   "codemirror_mode": {
    "name": "ipython",
    "version": 3
   },
   "file_extension": ".py",
   "mimetype": "text/x-python",
   "name": "python",
   "nbconvert_exporter": "python",
   "pygments_lexer": "ipython3",
   "version": "3.9.16"
  },
  "orig_nbformat": 4
 },
 "nbformat": 4,
 "nbformat_minor": 2
}
